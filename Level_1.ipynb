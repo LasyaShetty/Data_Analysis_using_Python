{
 "cells": [
  {
   "cell_type": "markdown",
   "id": "f1fd3470",
   "metadata": {},
   "source": [
    "# LEVEL 1 TASKS:"
   ]
  },
  {
   "cell_type": "code",
   "execution_count": 1,
   "id": "3376017c",
   "metadata": {},
   "outputs": [],
   "source": [
    "import numpy as np\n",
    "import pandas as pd\n",
    "df1 = pd.read_csv('cleaned_data.csv')\n"
   ]
  },
  {
   "cell_type": "code",
   "execution_count": 2,
   "id": "974aa8ad",
   "metadata": {},
   "outputs": [
    {
     "data": {
      "text/html": [
       "<div>\n",
       "<style scoped>\n",
       "    .dataframe tbody tr th:only-of-type {\n",
       "        vertical-align: middle;\n",
       "    }\n",
       "\n",
       "    .dataframe tbody tr th {\n",
       "        vertical-align: top;\n",
       "    }\n",
       "\n",
       "    .dataframe thead th {\n",
       "        text-align: right;\n",
       "    }\n",
       "</style>\n",
       "<table border=\"1\" class=\"dataframe\">\n",
       "  <thead>\n",
       "    <tr style=\"text-align: right;\">\n",
       "      <th></th>\n",
       "      <th>Restaurant ID</th>\n",
       "      <th>Restaurant Name</th>\n",
       "      <th>City</th>\n",
       "      <th>Address</th>\n",
       "      <th>Locality</th>\n",
       "      <th>Longitude</th>\n",
       "      <th>Latitude</th>\n",
       "      <th>Cuisines</th>\n",
       "      <th>Average Cost for two</th>\n",
       "      <th>Has Table booking</th>\n",
       "      <th>Has Online delivery</th>\n",
       "      <th>Is delivering now</th>\n",
       "      <th>Switch to order menu</th>\n",
       "      <th>Price range</th>\n",
       "      <th>Aggregate rating</th>\n",
       "      <th>Rating color</th>\n",
       "      <th>Rating text</th>\n",
       "      <th>Votes</th>\n",
       "    </tr>\n",
       "  </thead>\n",
       "  <tbody>\n",
       "    <tr>\n",
       "      <th>0</th>\n",
       "      <td>6317637</td>\n",
       "      <td>Le Petit Souffle</td>\n",
       "      <td>Makati City</td>\n",
       "      <td>Third Floor, Century City Mall, Kalayaan Avenu...</td>\n",
       "      <td>Century City Mall, Poblacion, Makati City</td>\n",
       "      <td>121.027535</td>\n",
       "      <td>14.565443</td>\n",
       "      <td>French, Japanese, Desserts</td>\n",
       "      <td>1100</td>\n",
       "      <td>Yes</td>\n",
       "      <td>No</td>\n",
       "      <td>No</td>\n",
       "      <td>No</td>\n",
       "      <td>3</td>\n",
       "      <td>4.8</td>\n",
       "      <td>Dark Green</td>\n",
       "      <td>Excellent</td>\n",
       "      <td>314</td>\n",
       "    </tr>\n",
       "    <tr>\n",
       "      <th>1</th>\n",
       "      <td>6304287</td>\n",
       "      <td>Izakaya Kikufuji</td>\n",
       "      <td>Makati City</td>\n",
       "      <td>Little Tokyo, 2277 Chino Roces Avenue, Legaspi...</td>\n",
       "      <td>Little Tokyo, Legaspi Village, Makati City</td>\n",
       "      <td>121.014101</td>\n",
       "      <td>14.553708</td>\n",
       "      <td>Japanese</td>\n",
       "      <td>1200</td>\n",
       "      <td>Yes</td>\n",
       "      <td>No</td>\n",
       "      <td>No</td>\n",
       "      <td>No</td>\n",
       "      <td>3</td>\n",
       "      <td>4.5</td>\n",
       "      <td>Dark Green</td>\n",
       "      <td>Excellent</td>\n",
       "      <td>591</td>\n",
       "    </tr>\n",
       "    <tr>\n",
       "      <th>2</th>\n",
       "      <td>6300002</td>\n",
       "      <td>Heat - Edsa Shangri-La</td>\n",
       "      <td>Mandaluyong City</td>\n",
       "      <td>Edsa Shangri-La, 1 Garden Way, Ortigas, Mandal...</td>\n",
       "      <td>Edsa Shangri-La, Ortigas, Mandaluyong City</td>\n",
       "      <td>121.056831</td>\n",
       "      <td>14.581404</td>\n",
       "      <td>Seafood, Asian, Filipino, Indian</td>\n",
       "      <td>4000</td>\n",
       "      <td>Yes</td>\n",
       "      <td>No</td>\n",
       "      <td>No</td>\n",
       "      <td>No</td>\n",
       "      <td>4</td>\n",
       "      <td>4.4</td>\n",
       "      <td>Green</td>\n",
       "      <td>Very Good</td>\n",
       "      <td>270</td>\n",
       "    </tr>\n",
       "    <tr>\n",
       "      <th>3</th>\n",
       "      <td>6318506</td>\n",
       "      <td>Ooma</td>\n",
       "      <td>Mandaluyong City</td>\n",
       "      <td>Third Floor, Mega Fashion Hall, SM Megamall, O...</td>\n",
       "      <td>SM Megamall, Ortigas, Mandaluyong City</td>\n",
       "      <td>121.056475</td>\n",
       "      <td>14.585318</td>\n",
       "      <td>Japanese, Sushi</td>\n",
       "      <td>1500</td>\n",
       "      <td>No</td>\n",
       "      <td>No</td>\n",
       "      <td>No</td>\n",
       "      <td>No</td>\n",
       "      <td>4</td>\n",
       "      <td>4.9</td>\n",
       "      <td>Dark Green</td>\n",
       "      <td>Excellent</td>\n",
       "      <td>365</td>\n",
       "    </tr>\n",
       "    <tr>\n",
       "      <th>4</th>\n",
       "      <td>6314302</td>\n",
       "      <td>Sambo Kojin</td>\n",
       "      <td>Mandaluyong City</td>\n",
       "      <td>Third Floor, Mega Atrium, SM Megamall, Ortigas...</td>\n",
       "      <td>SM Megamall, Ortigas, Mandaluyong City</td>\n",
       "      <td>121.057508</td>\n",
       "      <td>14.584450</td>\n",
       "      <td>Japanese, Korean</td>\n",
       "      <td>1500</td>\n",
       "      <td>Yes</td>\n",
       "      <td>No</td>\n",
       "      <td>No</td>\n",
       "      <td>No</td>\n",
       "      <td>4</td>\n",
       "      <td>4.8</td>\n",
       "      <td>Dark Green</td>\n",
       "      <td>Excellent</td>\n",
       "      <td>229</td>\n",
       "    </tr>\n",
       "    <tr>\n",
       "      <th>...</th>\n",
       "      <td>...</td>\n",
       "      <td>...</td>\n",
       "      <td>...</td>\n",
       "      <td>...</td>\n",
       "      <td>...</td>\n",
       "      <td>...</td>\n",
       "      <td>...</td>\n",
       "      <td>...</td>\n",
       "      <td>...</td>\n",
       "      <td>...</td>\n",
       "      <td>...</td>\n",
       "      <td>...</td>\n",
       "      <td>...</td>\n",
       "      <td>...</td>\n",
       "      <td>...</td>\n",
       "      <td>...</td>\n",
       "      <td>...</td>\n",
       "      <td>...</td>\n",
       "    </tr>\n",
       "    <tr>\n",
       "      <th>9537</th>\n",
       "      <td>5915730</td>\n",
       "      <td>Naml۱ Gurme</td>\n",
       "      <td>��stanbul</td>\n",
       "      <td>Kemanke�� Karamustafa Pa��a Mahallesi, R۱ht۱m ...</td>\n",
       "      <td>Karak�_y</td>\n",
       "      <td>28.977392</td>\n",
       "      <td>41.022793</td>\n",
       "      <td>Turkish</td>\n",
       "      <td>80</td>\n",
       "      <td>No</td>\n",
       "      <td>No</td>\n",
       "      <td>No</td>\n",
       "      <td>No</td>\n",
       "      <td>3</td>\n",
       "      <td>4.1</td>\n",
       "      <td>Green</td>\n",
       "      <td>Very Good</td>\n",
       "      <td>788</td>\n",
       "    </tr>\n",
       "    <tr>\n",
       "      <th>9538</th>\n",
       "      <td>5908749</td>\n",
       "      <td>Ceviz A��ac۱</td>\n",
       "      <td>��stanbul</td>\n",
       "      <td>Ko��uyolu Mahallesi, Muhittin ��st�_nda�� Cadd...</td>\n",
       "      <td>Ko��uyolu</td>\n",
       "      <td>29.041297</td>\n",
       "      <td>41.009847</td>\n",
       "      <td>World Cuisine, Patisserie, Cafe</td>\n",
       "      <td>105</td>\n",
       "      <td>No</td>\n",
       "      <td>No</td>\n",
       "      <td>No</td>\n",
       "      <td>No</td>\n",
       "      <td>3</td>\n",
       "      <td>4.2</td>\n",
       "      <td>Green</td>\n",
       "      <td>Very Good</td>\n",
       "      <td>1034</td>\n",
       "    </tr>\n",
       "    <tr>\n",
       "      <th>9539</th>\n",
       "      <td>5915807</td>\n",
       "      <td>Huqqa</td>\n",
       "      <td>��stanbul</td>\n",
       "      <td>Kuru�_e��me Mahallesi, Muallim Naci Caddesi, N...</td>\n",
       "      <td>Kuru�_e��me</td>\n",
       "      <td>29.034640</td>\n",
       "      <td>41.055817</td>\n",
       "      <td>Italian, World Cuisine</td>\n",
       "      <td>170</td>\n",
       "      <td>No</td>\n",
       "      <td>No</td>\n",
       "      <td>No</td>\n",
       "      <td>No</td>\n",
       "      <td>4</td>\n",
       "      <td>3.7</td>\n",
       "      <td>Yellow</td>\n",
       "      <td>Good</td>\n",
       "      <td>661</td>\n",
       "    </tr>\n",
       "    <tr>\n",
       "      <th>9540</th>\n",
       "      <td>5916112</td>\n",
       "      <td>A���k Kahve</td>\n",
       "      <td>��stanbul</td>\n",
       "      <td>Kuru�_e��me Mahallesi, Muallim Naci Caddesi, N...</td>\n",
       "      <td>Kuru�_e��me</td>\n",
       "      <td>29.036019</td>\n",
       "      <td>41.057979</td>\n",
       "      <td>Restaurant Cafe</td>\n",
       "      <td>120</td>\n",
       "      <td>No</td>\n",
       "      <td>No</td>\n",
       "      <td>No</td>\n",
       "      <td>No</td>\n",
       "      <td>4</td>\n",
       "      <td>4.0</td>\n",
       "      <td>Green</td>\n",
       "      <td>Very Good</td>\n",
       "      <td>901</td>\n",
       "    </tr>\n",
       "    <tr>\n",
       "      <th>9541</th>\n",
       "      <td>5927402</td>\n",
       "      <td>Walter's Coffee Roastery</td>\n",
       "      <td>��stanbul</td>\n",
       "      <td>Cafea��a Mahallesi, Bademalt۱ Sokak, No 21/B, ...</td>\n",
       "      <td>Moda</td>\n",
       "      <td>29.026016</td>\n",
       "      <td>40.984776</td>\n",
       "      <td>Cafe</td>\n",
       "      <td>55</td>\n",
       "      <td>No</td>\n",
       "      <td>No</td>\n",
       "      <td>No</td>\n",
       "      <td>No</td>\n",
       "      <td>2</td>\n",
       "      <td>4.0</td>\n",
       "      <td>Green</td>\n",
       "      <td>Very Good</td>\n",
       "      <td>591</td>\n",
       "    </tr>\n",
       "  </tbody>\n",
       "</table>\n",
       "<p>9542 rows × 18 columns</p>\n",
       "</div>"
      ],
      "text/plain": [
       "      Restaurant ID           Restaurant Name              City  \\\n",
       "0           6317637          Le Petit Souffle       Makati City   \n",
       "1           6304287          Izakaya Kikufuji       Makati City   \n",
       "2           6300002    Heat - Edsa Shangri-La  Mandaluyong City   \n",
       "3           6318506                      Ooma  Mandaluyong City   \n",
       "4           6314302               Sambo Kojin  Mandaluyong City   \n",
       "...             ...                       ...               ...   \n",
       "9537        5915730               Naml۱ Gurme         ��stanbul   \n",
       "9538        5908749              Ceviz A��ac۱         ��stanbul   \n",
       "9539        5915807                     Huqqa         ��stanbul   \n",
       "9540        5916112               A���k Kahve         ��stanbul   \n",
       "9541        5927402  Walter's Coffee Roastery         ��stanbul   \n",
       "\n",
       "                                                Address  \\\n",
       "0     Third Floor, Century City Mall, Kalayaan Avenu...   \n",
       "1     Little Tokyo, 2277 Chino Roces Avenue, Legaspi...   \n",
       "2     Edsa Shangri-La, 1 Garden Way, Ortigas, Mandal...   \n",
       "3     Third Floor, Mega Fashion Hall, SM Megamall, O...   \n",
       "4     Third Floor, Mega Atrium, SM Megamall, Ortigas...   \n",
       "...                                                 ...   \n",
       "9537  Kemanke�� Karamustafa Pa��a Mahallesi, R۱ht۱m ...   \n",
       "9538  Ko��uyolu Mahallesi, Muhittin ��st�_nda�� Cadd...   \n",
       "9539  Kuru�_e��me Mahallesi, Muallim Naci Caddesi, N...   \n",
       "9540  Kuru�_e��me Mahallesi, Muallim Naci Caddesi, N...   \n",
       "9541  Cafea��a Mahallesi, Bademalt۱ Sokak, No 21/B, ...   \n",
       "\n",
       "                                        Locality   Longitude   Latitude  \\\n",
       "0      Century City Mall, Poblacion, Makati City  121.027535  14.565443   \n",
       "1     Little Tokyo, Legaspi Village, Makati City  121.014101  14.553708   \n",
       "2     Edsa Shangri-La, Ortigas, Mandaluyong City  121.056831  14.581404   \n",
       "3         SM Megamall, Ortigas, Mandaluyong City  121.056475  14.585318   \n",
       "4         SM Megamall, Ortigas, Mandaluyong City  121.057508  14.584450   \n",
       "...                                          ...         ...        ...   \n",
       "9537                                    Karak�_y   28.977392  41.022793   \n",
       "9538                                   Ko��uyolu   29.041297  41.009847   \n",
       "9539                                 Kuru�_e��me   29.034640  41.055817   \n",
       "9540                                 Kuru�_e��me   29.036019  41.057979   \n",
       "9541                                        Moda   29.026016  40.984776   \n",
       "\n",
       "                              Cuisines  Average Cost for two  \\\n",
       "0           French, Japanese, Desserts                  1100   \n",
       "1                             Japanese                  1200   \n",
       "2     Seafood, Asian, Filipino, Indian                  4000   \n",
       "3                      Japanese, Sushi                  1500   \n",
       "4                     Japanese, Korean                  1500   \n",
       "...                                ...                   ...   \n",
       "9537                           Turkish                    80   \n",
       "9538   World Cuisine, Patisserie, Cafe                   105   \n",
       "9539            Italian, World Cuisine                   170   \n",
       "9540                   Restaurant Cafe                   120   \n",
       "9541                              Cafe                    55   \n",
       "\n",
       "     Has Table booking Has Online delivery Is delivering now  \\\n",
       "0                  Yes                  No                No   \n",
       "1                  Yes                  No                No   \n",
       "2                  Yes                  No                No   \n",
       "3                   No                  No                No   \n",
       "4                  Yes                  No                No   \n",
       "...                ...                 ...               ...   \n",
       "9537                No                  No                No   \n",
       "9538                No                  No                No   \n",
       "9539                No                  No                No   \n",
       "9540                No                  No                No   \n",
       "9541                No                  No                No   \n",
       "\n",
       "     Switch to order menu  Price range  Aggregate rating Rating color  \\\n",
       "0                      No            3               4.8   Dark Green   \n",
       "1                      No            3               4.5   Dark Green   \n",
       "2                      No            4               4.4        Green   \n",
       "3                      No            4               4.9   Dark Green   \n",
       "4                      No            4               4.8   Dark Green   \n",
       "...                   ...          ...               ...          ...   \n",
       "9537                   No            3               4.1        Green   \n",
       "9538                   No            3               4.2        Green   \n",
       "9539                   No            4               3.7       Yellow   \n",
       "9540                   No            4               4.0        Green   \n",
       "9541                   No            2               4.0        Green   \n",
       "\n",
       "     Rating text  Votes  \n",
       "0      Excellent    314  \n",
       "1      Excellent    591  \n",
       "2      Very Good    270  \n",
       "3      Excellent    365  \n",
       "4      Excellent    229  \n",
       "...          ...    ...  \n",
       "9537   Very Good    788  \n",
       "9538   Very Good   1034  \n",
       "9539        Good    661  \n",
       "9540   Very Good    901  \n",
       "9541   Very Good    591  \n",
       "\n",
       "[9542 rows x 18 columns]"
      ]
     },
     "execution_count": 2,
     "metadata": {},
     "output_type": "execute_result"
    }
   ],
   "source": [
    "df1"
   ]
  },
  {
   "cell_type": "markdown",
   "id": "b9f4e2fe",
   "metadata": {},
   "source": [
    "## Level 1 - Task1 : Top Cuisines\n",
    "Determine the top three most common cuisines in the dataset.\n",
    "\n",
    "Calculate the percentage of restaurants that serve each of the top cuisines"
   ]
  },
  {
   "cell_type": "markdown",
   "id": "c279417d",
   "metadata": {},
   "source": [
    "If the Cuisines containing multiple cuisines separated by a comma (For example, \"Italian, Chinese\"), and if we want to seperate these as different columns as unique cuisine, we will use str.get_dummies method. This method creates separate columns for each unique cuisine and counts the occurrences, even when there are multiple cuisines per entry."
   ]
  },
  {
   "cell_type": "code",
   "execution_count": 3,
   "id": "a3738746",
   "metadata": {},
   "outputs": [
    {
     "data": {
      "text/plain": [
       "Cuisines\n",
       "North Indian                                             936\n",
       "North Indian, Chinese                                    511\n",
       "Chinese                                                  354\n",
       "Fast Food                                                354\n",
       "North Indian, Mughlai                                    334\n",
       "                                                        ... \n",
       "Bengali, Fast Food                                         1\n",
       "North Indian, Rajasthani, Asian                            1\n",
       "Chinese, Thai, Malaysian, Indonesian                       1\n",
       "Bakery, Desserts, North Indian, Bengali, South Indian      1\n",
       "Italian, World Cuisine                                     1\n",
       "Name: count, Length: 1825, dtype: int64"
      ]
     },
     "execution_count": 3,
     "metadata": {},
     "output_type": "execute_result"
    }
   ],
   "source": [
    "df1[\"Cuisines\"].value_counts()"
   ]
  },
  {
   "cell_type": "code",
   "execution_count": 4,
   "id": "7da1fc14",
   "metadata": {},
   "outputs": [],
   "source": [
    "cuisines_dummies = df1['Cuisines'].str.get_dummies(sep=', ') # creates cuisines_dummies dataframe.\n",
    "#.str allows sting operations to each element. .get_dummies splits the string using (,) separator.\n",
    "cuisine_counts = cuisines_dummies.sum().sort_values(ascending=False) #this code sums up values and sorts in descending value\n",
    "top_three_cuisines = cuisine_counts.head(3)"
   ]
  },
  {
   "cell_type": "code",
   "execution_count": 5,
   "id": "5762769d",
   "metadata": {},
   "outputs": [
    {
     "name": "stdout",
     "output_type": "stream",
     "text": [
      "The Top Three most common cuisines in the dataset are:\n",
      " North Indian    3960\n",
      "Chinese         2733\n",
      "Fast Food       1986\n",
      "dtype: int64\n"
     ]
    }
   ],
   "source": [
    "print(\"The Top Three most common cuisines in the dataset are:\\n\",top_three_cuisines)"
   ]
  },
  {
   "cell_type": "code",
   "execution_count": 6,
   "id": "bd7ea726",
   "metadata": {},
   "outputs": [],
   "source": [
    "total_restaurants = len(df1)\n",
    "top_cuisines_percentage = (top_three_cuisines / total_restaurants) * 100"
   ]
  },
  {
   "cell_type": "code",
   "execution_count": 7,
   "id": "0b11fdca",
   "metadata": {},
   "outputs": [
    {
     "name": "stdout",
     "output_type": "stream",
     "text": [
      "North Indian    41.500734\n",
      "Chinese         28.641794\n",
      "Fast Food       20.813247\n",
      "dtype: float64\n"
     ]
    }
   ],
   "source": [
    "print(top_cuisines_percentage)"
   ]
  },
  {
   "cell_type": "markdown",
   "id": "4fd82015",
   "metadata": {},
   "source": [
    "If we want to calculate the top most 3 cuisines directly, then we will use value_counts().nlargest(3). This line directly finds the three most common cuisines without any additional processing."
   ]
  },
  {
   "cell_type": "code",
   "execution_count": 8,
   "id": "5c76e8b2",
   "metadata": {},
   "outputs": [
    {
     "data": {
      "text/plain": [
       "Cuisines\n",
       "North Indian             936\n",
       "North Indian, Chinese    511\n",
       "Chinese                  354\n",
       "Name: count, dtype: int64"
      ]
     },
     "execution_count": 8,
     "metadata": {},
     "output_type": "execute_result"
    }
   ],
   "source": [
    "top_cuisines = df1['Cuisines'].value_counts().nlargest(3)\n",
    "top_cuisines\n"
   ]
  },
  {
   "cell_type": "code",
   "execution_count": 9,
   "id": "aaab6ff3",
   "metadata": {},
   "outputs": [
    {
     "data": {
      "text/plain": [
       "Cuisines\n",
       "North Indian             9.809264\n",
       "North Indian, Chinese    5.355271\n",
       "Chinese                  3.709914\n",
       "Name: count, dtype: float64"
      ]
     },
     "execution_count": 9,
     "metadata": {},
     "output_type": "execute_result"
    }
   ],
   "source": [
    "total_restaurants = len(df1)\n",
    "top_cuisines_percentage = (top_cuisines / total_restaurants) * 100\n",
    "top_cuisines_percentage\n"
   ]
  },
  {
   "cell_type": "markdown",
   "id": "58212518",
   "metadata": {},
   "source": [
    "## Task 2 : City Analysis\n",
    "Identify the city with the highest number of restaurants in the dataset.\n",
    "\n",
    "Calculate the average rating for restaurants in each city.\n",
    "\n",
    "Determine the city with the highest average rating. "
   ]
  },
  {
   "cell_type": "code",
   "execution_count": 10,
   "id": "56114801",
   "metadata": {},
   "outputs": [
    {
     "data": {
      "text/plain": [
       "City\n",
       "New Delhi         5473\n",
       "Gurgaon           1118\n",
       "Noida             1080\n",
       "Faridabad          251\n",
       "Ghaziabad           25\n",
       "                  ... \n",
       "Lincoln              1\n",
       "Lakeview             1\n",
       "Lakes Entrance       1\n",
       "Inverloch            1\n",
       "Panchkula            1\n",
       "Name: count, Length: 140, dtype: int64"
      ]
     },
     "execution_count": 10,
     "metadata": {},
     "output_type": "execute_result"
    }
   ],
   "source": [
    "city_restaurant_count = df1['City'].value_counts()\n",
    "city_restaurant_count"
   ]
  },
  {
   "cell_type": "code",
   "execution_count": 11,
   "id": "7ecf2a12",
   "metadata": {},
   "outputs": [
    {
     "data": {
      "text/plain": [
       "'New Delhi'"
      ]
     },
     "execution_count": 11,
     "metadata": {},
     "output_type": "execute_result"
    }
   ],
   "source": [
    "city_with_highest_restaurants = city_restaurant_count.idxmax()\n",
    "city_with_highest_restaurants"
   ]
  },
  {
   "cell_type": "code",
   "execution_count": 12,
   "id": "c8be4680",
   "metadata": {},
   "outputs": [
    {
     "data": {
      "text/plain": [
       "5473"
      ]
     },
     "execution_count": 12,
     "metadata": {},
     "output_type": "execute_result"
    }
   ],
   "source": [
    "highest_restaurant_count = city_restaurant_count.max()\n",
    "highest_restaurant_count"
   ]
  },
  {
   "cell_type": "code",
   "execution_count": 13,
   "id": "591ca32e",
   "metadata": {},
   "outputs": [
    {
     "name": "stdout",
     "output_type": "stream",
     "text": [
      "The City with Highest number of restaurants is:  New Delhi , with  5473  restaurants.\n"
     ]
    }
   ],
   "source": [
    "print(\"The City with Highest number of restaurants is: \",city_with_highest_restaurants,\", with \",highest_restaurant_count,\" restaurants.\")"
   ]
  },
  {
   "cell_type": "code",
   "execution_count": 14,
   "id": "f8242d71",
   "metadata": {},
   "outputs": [
    {
     "name": "stdout",
     "output_type": "stream",
     "text": [
      "The average ratings for reastaurants in each city: City\n",
      "Abu Dhabi          4.300000\n",
      "Agra               3.965000\n",
      "Ahmedabad          4.161905\n",
      "Albany             3.552941\n",
      "Allahabad          3.395000\n",
      "                     ...   \n",
      "Weirton            3.900000\n",
      "Wellington City    4.250000\n",
      "Winchester Bay     3.200000\n",
      "Yorkton            3.300000\n",
      "��stanbul          4.292857\n",
      "Name: Aggregate rating, Length: 140, dtype: float64\n"
     ]
    }
   ],
   "source": [
    "average_ratings_by_city = df1.groupby('City')['Aggregate rating'].mean()\n",
    "print(\"The average ratings for reastaurants in each city:\",average_ratings_by_city)\n"
   ]
  },
  {
   "cell_type": "code",
   "execution_count": 45,
   "id": "1d97f3ea",
   "metadata": {},
   "outputs": [
    {
     "name": "stdout",
     "output_type": "stream",
     "text": [
      "City with the highest average rating: Inner City with an average rating of 4.9\n"
     ]
    }
   ],
   "source": [
    "city_with_highest_rating = average_ratings_by_city.idxmax()\n",
    "highest_city_rating = average_ratings_by_city.max()\n",
    "\n",
    "print(\"City with the highest average rating:\" ,city_with_highest_rating, \"with an average rating of\", highest_city_rating)\n"
   ]
  },
  {
   "cell_type": "markdown",
   "id": "d9ccf8c0",
   "metadata": {},
   "source": [
    "## Task 3 : Price Range Distribution\n",
    "Create a histogram or bar chart to visualize the distribution of price ranges among the restaurants.\n",
    "\n",
    "Calculate the percentage of restaurants in each price range category "
   ]
  },
  {
   "cell_type": "code",
   "execution_count": 16,
   "id": "b7b78b37",
   "metadata": {},
   "outputs": [
    {
     "data": {
      "text/plain": [
       "Price range\n",
       "1    4438\n",
       "2    3113\n",
       "3    1405\n",
       "4     586\n",
       "Name: count, dtype: int64"
      ]
     },
     "execution_count": 16,
     "metadata": {},
     "output_type": "execute_result"
    }
   ],
   "source": [
    " df1['Price range'].value_counts()"
   ]
  },
  {
   "cell_type": "code",
   "execution_count": 17,
   "id": "cc00b426",
   "metadata": {},
   "outputs": [
    {
     "data": {
      "image/png": "[encoded data removed]",
      "text/plain": [
       "<Figure size 1000x600 with 1 Axes>"
      ]
     },
     "metadata": {},
     "output_type": "display_data"
    }
   ],
   "source": [
    "# A bar chart to visualize the distribution of price ranges among the restaurants.\n",
    "\n",
    "import matplotlib.pyplot as plt\n",
    "import seaborn as sns\n",
    "price_counts = df1['Price range'].value_counts()\n",
    "plt.figure(figsize=(10, 6))\n",
    "sns.barplot(x=price_counts.index, y=price_counts.values, palette=\"viridis\")\n",
    "plt.xlabel('Price Range')\n",
    "plt.ylabel('Number of Restaurants')\n",
    "plt.title('Distribution of Price Ranges Among Restaurants')\n",
    "plt.show()\n"
   ]
  },
  {
   "cell_type": "markdown",
   "id": "a6733e4a",
   "metadata": {},
   "source": [
    "Insights: The Number of Restaurants fall under price range 1 is 4438,  2 is 3113,  3 is 1405 and  4 is 586"
   ]
  },
  {
   "cell_type": "code",
   "execution_count": 18,
   "id": "432ed2a2",
   "metadata": {},
   "outputs": [
    {
     "data": {
      "text/plain": [
       "Price range\n",
       "1    46.510166\n",
       "2    32.624188\n",
       "3    14.724376\n",
       "4     6.141270\n",
       "Name: count, dtype: float64"
      ]
     },
     "execution_count": 18,
     "metadata": {},
     "output_type": "execute_result"
    }
   ],
   "source": [
    "#The percentage of restaurants in each price range category \n",
    "percentage_price_range = (price_counts / len(df1)) * 100\n",
    "percentage_price_range"
   ]
  },
  {
   "cell_type": "markdown",
   "id": "c78546d2",
   "metadata": {},
   "source": [
    "## Task 4 : Online Delivery\n",
    "\n",
    "Determine the percentage of restaurants that offer online delivery.\n",
    "\n",
    "Compare the average ratings of restaurants with and without online delivery."
   ]
  },
  {
   "cell_type": "code",
   "execution_count": 19,
   "id": "a1472c5d",
   "metadata": {},
   "outputs": [
    {
     "name": "stdout",
     "output_type": "stream",
     "text": [
      "Percentage of restaurants that offer online delivery: 25.69%\n"
     ]
    }
   ],
   "source": [
    "# The percentage of restaurants that offer online delivery.\n",
    "\n",
    "online_delivery_count = df1[df1['Has Online delivery'] == 'Yes'].shape[0] #count of restaurants that has online delivery\n",
    "total_restaurants = df1.shape[0] #count of total restaurants\n",
    "\n",
    "# Calculate the percentage of restaurants that offer online delivery.\n",
    "percentage_online_delivery = (online_delivery_count / total_restaurants) * 100\n",
    "print(f\"Percentage of restaurants that offer online delivery: {percentage_online_delivery:.2f}%\")"
   ]
  },
  {
   "cell_type": "code",
   "execution_count": 20,
   "id": "1717b30b",
   "metadata": {},
   "outputs": [
    {
     "name": "stdout",
     "output_type": "stream",
     "text": [
      "Has Online delivery\n",
      "No     2.463517\n",
      "Yes    3.248837\n",
      "Name: Aggregate rating, dtype: float64\n"
     ]
    }
   ],
   "source": [
    "# The average ratings of restaurants with and without online delivery.\n",
    "rating_comparison = df1.groupby('Has Online delivery')['Aggregate rating'].mean()\n",
    "print(rating_comparison)\n"
   ]
  },
  {
   "cell_type": "markdown",
   "id": "bc47a2b5",
   "metadata": {},
   "source": [
    "The average ratings of restaurants with and without online delivery are:\n",
    "\n",
    "With Online delivery - 2.463517\n",
    "\n",
    "Without Online delivery - 3.248837"
   ]
  },
  {
   "cell_type": "code",
   "execution_count": null,
   "id": "b3d66504",
   "metadata": {},
   "outputs": [],
   "source": []
  }
 ],
 "metadata": {
  "kernelspec": {
   "display_name": "Python 3 (ipykernel)",
   "language": "python",
   "name": "python3"
  },
  "language_info": {
   "codemirror_mode": {
    "name": "ipython",
    "version": 3
   },
   "file_extension": ".py",
   "mimetype": "text/x-python",
   "name": "python",
   "nbconvert_exporter": "python",
   "pygments_lexer": "ipython3",
   "version": "3.11.5"
  }
 },
 "nbformat": 4,
 "nbformat_minor": 5
}
