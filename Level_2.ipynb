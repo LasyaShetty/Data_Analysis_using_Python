{
 "cells": [
  {
   "cell_type": "markdown",
   "id": "17f4e79f",
   "metadata": {},
   "source": [
    "# LEVEL 2 TASKS:"
   ]
  },
  {
   "cell_type": "code",
   "execution_count": 1,
   "id": "44107a7b",
   "metadata": {},
   "outputs": [],
   "source": [
    "import numpy as np\n",
    "import pandas as pd\n",
    "df1 = pd.read_csv('cleaned_data.csv')\n"
   ]
  },
  {
   "cell_type": "code",
   "execution_count": 2,
   "id": "8278ad33",
   "metadata": {},
   "outputs": [
    {
     "data": {
      "text/html": [
       "<div>\n",
       "<style scoped>\n",
       "    .dataframe tbody tr th:only-of-type {\n",
       "        vertical-align: middle;\n",
       "    }\n",
       "\n",
       "    .dataframe tbody tr th {\n",
       "        vertical-align: top;\n",
       "    }\n",
       "\n",
       "    .dataframe thead th {\n",
       "        text-align: right;\n",
       "    }\n",
       "</style>\n",
       "<table border=\"1\" class=\"dataframe\">\n",
       "  <thead>\n",
       "    <tr style=\"text-align: right;\">\n",
       "      <th></th>\n",
       "      <th>Restaurant ID</th>\n",
       "      <th>Restaurant Name</th>\n",
       "      <th>City</th>\n",
       "      <th>Address</th>\n",
       "      <th>Locality</th>\n",
       "      <th>Longitude</th>\n",
       "      <th>Latitude</th>\n",
       "      <th>Cuisines</th>\n",
       "      <th>Average Cost for two</th>\n",
       "      <th>Has Table booking</th>\n",
       "      <th>Has Online delivery</th>\n",
       "      <th>Is delivering now</th>\n",
       "      <th>Switch to order menu</th>\n",
       "      <th>Price range</th>\n",
       "      <th>Aggregate rating</th>\n",
       "      <th>Rating color</th>\n",
       "      <th>Rating text</th>\n",
       "      <th>Votes</th>\n",
       "    </tr>\n",
       "  </thead>\n",
       "  <tbody>\n",
       "    <tr>\n",
       "      <th>0</th>\n",
       "      <td>6317637</td>\n",
       "      <td>Le Petit Souffle</td>\n",
       "      <td>Makati City</td>\n",
       "      <td>Third Floor, Century City Mall, Kalayaan Avenu...</td>\n",
       "      <td>Century City Mall, Poblacion, Makati City</td>\n",
       "      <td>121.027535</td>\n",
       "      <td>14.565443</td>\n",
       "      <td>French, Japanese, Desserts</td>\n",
       "      <td>1100</td>\n",
       "      <td>Yes</td>\n",
       "      <td>No</td>\n",
       "      <td>No</td>\n",
       "      <td>No</td>\n",
       "      <td>3</td>\n",
       "      <td>4.8</td>\n",
       "      <td>Dark Green</td>\n",
       "      <td>Excellent</td>\n",
       "      <td>314</td>\n",
       "    </tr>\n",
       "    <tr>\n",
       "      <th>1</th>\n",
       "      <td>6304287</td>\n",
       "      <td>Izakaya Kikufuji</td>\n",
       "      <td>Makati City</td>\n",
       "      <td>Little Tokyo, 2277 Chino Roces Avenue, Legaspi...</td>\n",
       "      <td>Little Tokyo, Legaspi Village, Makati City</td>\n",
       "      <td>121.014101</td>\n",
       "      <td>14.553708</td>\n",
       "      <td>Japanese</td>\n",
       "      <td>1200</td>\n",
       "      <td>Yes</td>\n",
       "      <td>No</td>\n",
       "      <td>No</td>\n",
       "      <td>No</td>\n",
       "      <td>3</td>\n",
       "      <td>4.5</td>\n",
       "      <td>Dark Green</td>\n",
       "      <td>Excellent</td>\n",
       "      <td>591</td>\n",
       "    </tr>\n",
       "    <tr>\n",
       "      <th>2</th>\n",
       "      <td>6300002</td>\n",
       "      <td>Heat - Edsa Shangri-La</td>\n",
       "      <td>Mandaluyong City</td>\n",
       "      <td>Edsa Shangri-La, 1 Garden Way, Ortigas, Mandal...</td>\n",
       "      <td>Edsa Shangri-La, Ortigas, Mandaluyong City</td>\n",
       "      <td>121.056831</td>\n",
       "      <td>14.581404</td>\n",
       "      <td>Seafood, Asian, Filipino, Indian</td>\n",
       "      <td>4000</td>\n",
       "      <td>Yes</td>\n",
       "      <td>No</td>\n",
       "      <td>No</td>\n",
       "      <td>No</td>\n",
       "      <td>4</td>\n",
       "      <td>4.4</td>\n",
       "      <td>Green</td>\n",
       "      <td>Very Good</td>\n",
       "      <td>270</td>\n",
       "    </tr>\n",
       "    <tr>\n",
       "      <th>3</th>\n",
       "      <td>6318506</td>\n",
       "      <td>Ooma</td>\n",
       "      <td>Mandaluyong City</td>\n",
       "      <td>Third Floor, Mega Fashion Hall, SM Megamall, O...</td>\n",
       "      <td>SM Megamall, Ortigas, Mandaluyong City</td>\n",
       "      <td>121.056475</td>\n",
       "      <td>14.585318</td>\n",
       "      <td>Japanese, Sushi</td>\n",
       "      <td>1500</td>\n",
       "      <td>No</td>\n",
       "      <td>No</td>\n",
       "      <td>No</td>\n",
       "      <td>No</td>\n",
       "      <td>4</td>\n",
       "      <td>4.9</td>\n",
       "      <td>Dark Green</td>\n",
       "      <td>Excellent</td>\n",
       "      <td>365</td>\n",
       "    </tr>\n",
       "    <tr>\n",
       "      <th>4</th>\n",
       "      <td>6314302</td>\n",
       "      <td>Sambo Kojin</td>\n",
       "      <td>Mandaluyong City</td>\n",
       "      <td>Third Floor, Mega Atrium, SM Megamall, Ortigas...</td>\n",
       "      <td>SM Megamall, Ortigas, Mandaluyong City</td>\n",
       "      <td>121.057508</td>\n",
       "      <td>14.584450</td>\n",
       "      <td>Japanese, Korean</td>\n",
       "      <td>1500</td>\n",
       "      <td>Yes</td>\n",
       "      <td>No</td>\n",
       "      <td>No</td>\n",
       "      <td>No</td>\n",
       "      <td>4</td>\n",
       "      <td>4.8</td>\n",
       "      <td>Dark Green</td>\n",
       "      <td>Excellent</td>\n",
       "      <td>229</td>\n",
       "    </tr>\n",
       "    <tr>\n",
       "      <th>...</th>\n",
       "      <td>...</td>\n",
       "      <td>...</td>\n",
       "      <td>...</td>\n",
       "      <td>...</td>\n",
       "      <td>...</td>\n",
       "      <td>...</td>\n",
       "      <td>...</td>\n",
       "      <td>...</td>\n",
       "      <td>...</td>\n",
       "      <td>...</td>\n",
       "      <td>...</td>\n",
       "      <td>...</td>\n",
       "      <td>...</td>\n",
       "      <td>...</td>\n",
       "      <td>...</td>\n",
       "      <td>...</td>\n",
       "      <td>...</td>\n",
       "      <td>...</td>\n",
       "    </tr>\n",
       "    <tr>\n",
       "      <th>9537</th>\n",
       "      <td>5915730</td>\n",
       "      <td>Naml۱ Gurme</td>\n",
       "      <td>��stanbul</td>\n",
       "      <td>Kemanke�� Karamustafa Pa��a Mahallesi, R۱ht۱m ...</td>\n",
       "      <td>Karak�_y</td>\n",
       "      <td>28.977392</td>\n",
       "      <td>41.022793</td>\n",
       "      <td>Turkish</td>\n",
       "      <td>80</td>\n",
       "      <td>No</td>\n",
       "      <td>No</td>\n",
       "      <td>No</td>\n",
       "      <td>No</td>\n",
       "      <td>3</td>\n",
       "      <td>4.1</td>\n",
       "      <td>Green</td>\n",
       "      <td>Very Good</td>\n",
       "      <td>788</td>\n",
       "    </tr>\n",
       "    <tr>\n",
       "      <th>9538</th>\n",
       "      <td>5908749</td>\n",
       "      <td>Ceviz A��ac۱</td>\n",
       "      <td>��stanbul</td>\n",
       "      <td>Ko��uyolu Mahallesi, Muhittin ��st�_nda�� Cadd...</td>\n",
       "      <td>Ko��uyolu</td>\n",
       "      <td>29.041297</td>\n",
       "      <td>41.009847</td>\n",
       "      <td>World Cuisine, Patisserie, Cafe</td>\n",
       "      <td>105</td>\n",
       "      <td>No</td>\n",
       "      <td>No</td>\n",
       "      <td>No</td>\n",
       "      <td>No</td>\n",
       "      <td>3</td>\n",
       "      <td>4.2</td>\n",
       "      <td>Green</td>\n",
       "      <td>Very Good</td>\n",
       "      <td>1034</td>\n",
       "    </tr>\n",
       "    <tr>\n",
       "      <th>9539</th>\n",
       "      <td>5915807</td>\n",
       "      <td>Huqqa</td>\n",
       "      <td>��stanbul</td>\n",
       "      <td>Kuru�_e��me Mahallesi, Muallim Naci Caddesi, N...</td>\n",
       "      <td>Kuru�_e��me</td>\n",
       "      <td>29.034640</td>\n",
       "      <td>41.055817</td>\n",
       "      <td>Italian, World Cuisine</td>\n",
       "      <td>170</td>\n",
       "      <td>No</td>\n",
       "      <td>No</td>\n",
       "      <td>No</td>\n",
       "      <td>No</td>\n",
       "      <td>4</td>\n",
       "      <td>3.7</td>\n",
       "      <td>Yellow</td>\n",
       "      <td>Good</td>\n",
       "      <td>661</td>\n",
       "    </tr>\n",
       "    <tr>\n",
       "      <th>9540</th>\n",
       "      <td>5916112</td>\n",
       "      <td>A���k Kahve</td>\n",
       "      <td>��stanbul</td>\n",
       "      <td>Kuru�_e��me Mahallesi, Muallim Naci Caddesi, N...</td>\n",
       "      <td>Kuru�_e��me</td>\n",
       "      <td>29.036019</td>\n",
       "      <td>41.057979</td>\n",
       "      <td>Restaurant Cafe</td>\n",
       "      <td>120</td>\n",
       "      <td>No</td>\n",
       "      <td>No</td>\n",
       "      <td>No</td>\n",
       "      <td>No</td>\n",
       "      <td>4</td>\n",
       "      <td>4.0</td>\n",
       "      <td>Green</td>\n",
       "      <td>Very Good</td>\n",
       "      <td>901</td>\n",
       "    </tr>\n",
       "    <tr>\n",
       "      <th>9541</th>\n",
       "      <td>5927402</td>\n",
       "      <td>Walter's Coffee Roastery</td>\n",
       "      <td>��stanbul</td>\n",
       "      <td>Cafea��a Mahallesi, Bademalt۱ Sokak, No 21/B, ...</td>\n",
       "      <td>Moda</td>\n",
       "      <td>29.026016</td>\n",
       "      <td>40.984776</td>\n",
       "      <td>Cafe</td>\n",
       "      <td>55</td>\n",
       "      <td>No</td>\n",
       "      <td>No</td>\n",
       "      <td>No</td>\n",
       "      <td>No</td>\n",
       "      <td>2</td>\n",
       "      <td>4.0</td>\n",
       "      <td>Green</td>\n",
       "      <td>Very Good</td>\n",
       "      <td>591</td>\n",
       "    </tr>\n",
       "  </tbody>\n",
       "</table>\n",
       "<p>9542 rows × 18 columns</p>\n",
       "</div>"
      ],
      "text/plain": [
       "      Restaurant ID           Restaurant Name              City  \\\n",
       "0           6317637          Le Petit Souffle       Makati City   \n",
       "1           6304287          Izakaya Kikufuji       Makati City   \n",
       "2           6300002    Heat - Edsa Shangri-La  Mandaluyong City   \n",
       "3           6318506                      Ooma  Mandaluyong City   \n",
       "4           6314302               Sambo Kojin  Mandaluyong City   \n",
       "...             ...                       ...               ...   \n",
       "9537        5915730               Naml۱ Gurme         ��stanbul   \n",
       "9538        5908749              Ceviz A��ac۱         ��stanbul   \n",
       "9539        5915807                     Huqqa         ��stanbul   \n",
       "9540        5916112               A���k Kahve         ��stanbul   \n",
       "9541        5927402  Walter's Coffee Roastery         ��stanbul   \n",
       "\n",
       "                                                Address  \\\n",
       "0     Third Floor, Century City Mall, Kalayaan Avenu...   \n",
       "1     Little Tokyo, 2277 Chino Roces Avenue, Legaspi...   \n",
       "2     Edsa Shangri-La, 1 Garden Way, Ortigas, Mandal...   \n",
       "3     Third Floor, Mega Fashion Hall, SM Megamall, O...   \n",
       "4     Third Floor, Mega Atrium, SM Megamall, Ortigas...   \n",
       "...                                                 ...   \n",
       "9537  Kemanke�� Karamustafa Pa��a Mahallesi, R۱ht۱m ...   \n",
       "9538  Ko��uyolu Mahallesi, Muhittin ��st�_nda�� Cadd...   \n",
       "9539  Kuru�_e��me Mahallesi, Muallim Naci Caddesi, N...   \n",
       "9540  Kuru�_e��me Mahallesi, Muallim Naci Caddesi, N...   \n",
       "9541  Cafea��a Mahallesi, Bademalt۱ Sokak, No 21/B, ...   \n",
       "\n",
       "                                        Locality   Longitude   Latitude  \\\n",
       "0      Century City Mall, Poblacion, Makati City  121.027535  14.565443   \n",
       "1     Little Tokyo, Legaspi Village, Makati City  121.014101  14.553708   \n",
       "2     Edsa Shangri-La, Ortigas, Mandaluyong City  121.056831  14.581404   \n",
       "3         SM Megamall, Ortigas, Mandaluyong City  121.056475  14.585318   \n",
       "4         SM Megamall, Ortigas, Mandaluyong City  121.057508  14.584450   \n",
       "...                                          ...         ...        ...   \n",
       "9537                                    Karak�_y   28.977392  41.022793   \n",
       "9538                                   Ko��uyolu   29.041297  41.009847   \n",
       "9539                                 Kuru�_e��me   29.034640  41.055817   \n",
       "9540                                 Kuru�_e��me   29.036019  41.057979   \n",
       "9541                                        Moda   29.026016  40.984776   \n",
       "\n",
       "                              Cuisines  Average Cost for two  \\\n",
       "0           French, Japanese, Desserts                  1100   \n",
       "1                             Japanese                  1200   \n",
       "2     Seafood, Asian, Filipino, Indian                  4000   \n",
       "3                      Japanese, Sushi                  1500   \n",
       "4                     Japanese, Korean                  1500   \n",
       "...                                ...                   ...   \n",
       "9537                           Turkish                    80   \n",
       "9538   World Cuisine, Patisserie, Cafe                   105   \n",
       "9539            Italian, World Cuisine                   170   \n",
       "9540                   Restaurant Cafe                   120   \n",
       "9541                              Cafe                    55   \n",
       "\n",
       "     Has Table booking Has Online delivery Is delivering now  \\\n",
       "0                  Yes                  No                No   \n",
       "1                  Yes                  No                No   \n",
       "2                  Yes                  No                No   \n",
       "3                   No                  No                No   \n",
       "4                  Yes                  No                No   \n",
       "...                ...                 ...               ...   \n",
       "9537                No                  No                No   \n",
       "9538                No                  No                No   \n",
       "9539                No                  No                No   \n",
       "9540                No                  No                No   \n",
       "9541                No                  No                No   \n",
       "\n",
       "     Switch to order menu  Price range  Aggregate rating Rating color  \\\n",
       "0                      No            3               4.8   Dark Green   \n",
       "1                      No            3               4.5   Dark Green   \n",
       "2                      No            4               4.4        Green   \n",
       "3                      No            4               4.9   Dark Green   \n",
       "4                      No            4               4.8   Dark Green   \n",
       "...                   ...          ...               ...          ...   \n",
       "9537                   No            3               4.1        Green   \n",
       "9538                   No            3               4.2        Green   \n",
       "9539                   No            4               3.7       Yellow   \n",
       "9540                   No            4               4.0        Green   \n",
       "9541                   No            2               4.0        Green   \n",
       "\n",
       "     Rating text  Votes  \n",
       "0      Excellent    314  \n",
       "1      Excellent    591  \n",
       "2      Very Good    270  \n",
       "3      Excellent    365  \n",
       "4      Excellent    229  \n",
       "...          ...    ...  \n",
       "9537   Very Good    788  \n",
       "9538   Very Good   1034  \n",
       "9539        Good    661  \n",
       "9540   Very Good    901  \n",
       "9541   Very Good    591  \n",
       "\n",
       "[9542 rows x 18 columns]"
      ]
     },
     "execution_count": 2,
     "metadata": {},
     "output_type": "execute_result"
    }
   ],
   "source": [
    "df1"
   ]
  },
  {
   "cell_type": "markdown",
   "id": "8f5d6c43",
   "metadata": {},
   "source": [
    "## Level 2 - Task 1 : Restaurant Ratings\n",
    "Analyze the distribution of aggregate ratings and determine the most common rating range.\n",
    "\n",
    "Calculate the average number of votes received by restaurants. "
   ]
  },
  {
   "cell_type": "code",
   "execution_count": 3,
   "id": "91a6a02c",
   "metadata": {
    "scrolled": true
   },
   "outputs": [
    {
     "data": {
      "image/png": "[encoded data removed]",
      "text/plain": [
       "<Figure size 1000x600 with 1 Axes>"
      ]
     },
     "metadata": {},
     "output_type": "display_data"
    }
   ],
   "source": [
    "import matplotlib.pyplot as plt\n",
    "import seaborn as sns\n",
    "ratings = df1['Aggregate rating']\n",
    "\n",
    "# Plot the distribution of aggregate ratings\n",
    "plt.figure(figsize=(10,6))\n",
    "sns.histplot(ratings, bins=10, kde=False, color='skyblue', edgecolor='black')\n",
    "plt.title('Distribution of Aggregate Ratings', fontsize=16)\n",
    "plt.xlabel('Aggregate Rating', fontsize=12)\n",
    "plt.ylabel('Frequency', fontsize=12)\n",
    "plt.grid(axis='y', linestyle='--', alpha=0.7)\n",
    "plt.show()\n",
    "\n"
   ]
  },
  {
   "cell_type": "markdown",
   "id": "41d32ddf",
   "metadata": {},
   "source": [
    "Insights: "
   ]
  },
  {
   "cell_type": "code",
   "execution_count": 4,
   "id": "01e94fe7",
   "metadata": {},
   "outputs": [],
   "source": [
    "rr=df1['Aggregate rating'].value_counts()"
   ]
  },
  {
   "cell_type": "code",
   "execution_count": 5,
   "id": "98a91146",
   "metadata": {
    "scrolled": true
   },
   "outputs": [
    {
     "data": {
      "text/plain": [
       "Aggregate rating\n",
       "0.0    2148\n",
       "3.2     522\n",
       "3.1     519\n",
       "3.4     495\n",
       "3.3     483\n",
       "3.5     480\n",
       "3.0     468\n",
       "3.6     458\n",
       "3.7     427\n",
       "3.8     399\n",
       "2.9     381\n",
       "3.9     332\n",
       "2.8     315\n",
       "4.1     274\n",
       "4.0     266\n",
       "2.7     250\n",
       "4.2     221\n",
       "2.6     191\n",
       "4.3     174\n",
       "4.4     143\n",
       "2.5     110\n",
       "4.5      95\n",
       "2.4      87\n",
       "4.6      78\n",
       "4.9      61\n",
       "2.3      47\n",
       "4.7      41\n",
       "2.2      27\n",
       "4.8      25\n",
       "2.1      15\n",
       "2.0       7\n",
       "1.9       2\n",
       "1.8       1\n",
       "Name: count, dtype: int64"
      ]
     },
     "execution_count": 5,
     "metadata": {},
     "output_type": "execute_result"
    }
   ],
   "source": [
    "rr"
   ]
  },
  {
   "cell_type": "markdown",
   "id": "88958fc8",
   "metadata": {},
   "source": [
    "Here we are getting 0.0 as a common rating range. So we can use pd.cut() to divide the ratings into range."
   ]
  },
  {
   "cell_type": "code",
   "execution_count": 6,
   "id": "30951ec5",
   "metadata": {},
   "outputs": [
    {
     "data": {
      "text/plain": [
       "Aggregate rating\n",
       "(2.94, 3.43]       2487\n",
       "(-0.0049, 0.49]    2148\n",
       "(3.43, 3.92]       2096\n",
       "(2.45, 2.94]       1247\n",
       "(3.92, 4.41]       1078\n",
       "(4.41, 4.9]         300\n",
       "(1.96, 2.45]        183\n",
       "(1.47, 1.96]          3\n",
       "(0.49, 0.98]          0\n",
       "(0.98, 1.47]          0\n",
       "Name: count, dtype: int64"
      ]
     },
     "execution_count": 6,
     "metadata": {},
     "output_type": "execute_result"
    }
   ],
   "source": [
    "most_common_ranges = pd.cut(ratings, bins=10).value_counts()\n",
    "most_common_ranges"
   ]
  },
  {
   "cell_type": "code",
   "execution_count": 7,
   "id": "c658cac8",
   "metadata": {},
   "outputs": [
    {
     "data": {
      "text/plain": [
       "Interval(2.94, 3.43, closed='right')"
      ]
     },
     "execution_count": 7,
     "metadata": {},
     "output_type": "execute_result"
    }
   ],
   "source": [
    "most_common_ranges = pd.cut(ratings, bins=10).value_counts().idxmax()\n",
    "most_common_ranges"
   ]
  },
  {
   "cell_type": "markdown",
   "id": "ff998f12",
   "metadata": {},
   "source": [
    " The most common rating range is 2.94, 3.43"
   ]
  },
  {
   "cell_type": "code",
   "execution_count": 8,
   "id": "7971c92c",
   "metadata": {},
   "outputs": [
    {
     "data": {
      "text/plain": [
       "156.7720603647034"
      ]
     },
     "execution_count": 8,
     "metadata": {},
     "output_type": "execute_result"
    }
   ],
   "source": [
    "# Calculate the average number of votes received by restaurants\n",
    "average_votes = df1['Votes'].mean()\n",
    "average_votes\n"
   ]
  },
  {
   "cell_type": "markdown",
   "id": "58e7893c",
   "metadata": {},
   "source": [
    "The average number of votes received by restaurants: 156.7720603647034\n"
   ]
  },
  {
   "cell_type": "markdown",
   "id": "ed39f61d",
   "metadata": {},
   "source": [
    "## Task 2: Cuisine Combination\n",
    "\n",
    "Identify the most common combinations of\n",
    "cuisines in the dataset.\n",
    "\n",
    "Determine if certain cuisine combinations\n",
    "tend to have higher ratings. "
   ]
  },
  {
   "cell_type": "code",
   "execution_count": 9,
   "id": "4975b351",
   "metadata": {},
   "outputs": [
    {
     "name": "stdout",
     "output_type": "stream",
     "text": [
      "Most common cuisine combinations:\n",
      " Cuisines\n",
      "North Indian                                             936\n",
      "North Indian, Chinese                                    511\n",
      "Chinese                                                  354\n",
      "Fast Food                                                354\n",
      "North Indian, Mughlai                                    334\n",
      "                                                        ... \n",
      "Bengali, Fast Food                                         1\n",
      "North Indian, Rajasthani, Asian                            1\n",
      "Chinese, Thai, Malaysian, Indonesian                       1\n",
      "Bakery, Desserts, North Indian, Bengali, South Indian      1\n",
      "Italian, World Cuisine                                     1\n",
      "Name: count, Length: 1825, dtype: int64\n"
     ]
    }
   ],
   "source": [
    "# the most common combinations of cuisines in the dataset.\n",
    "\n",
    "import pandas as pd\n",
    "cuisine_combinations = df1['Cuisines'].value_counts()\n",
    "print(\"Most common cuisine combinations:\\n\", cuisine_combinations)"
   ]
  },
  {
   "cell_type": "code",
   "execution_count": 10,
   "id": "c8efa1f1",
   "metadata": {},
   "outputs": [
    {
     "name": "stdout",
     "output_type": "stream",
     "text": [
      "Most 10 common cuisine combinations:\n",
      " Cuisines\n",
      "North Indian                      936\n",
      "North Indian, Chinese             511\n",
      "Chinese                           354\n",
      "Fast Food                         354\n",
      "North Indian, Mughlai             334\n",
      "Cafe                              299\n",
      "Bakery                            218\n",
      "North Indian, Mughlai, Chinese    197\n",
      "Bakery, Desserts                  170\n",
      "Street Food                       149\n",
      "Name: count, dtype: int64\n"
     ]
    }
   ],
   "source": [
    "top10=cuisine_combinations.head(10) # Top 10 most common combinations\n",
    "print(\"Most 10 common cuisine combinations:\\n\", top10)\n"
   ]
  },
  {
   "cell_type": "code",
   "execution_count": 11,
   "id": "f7fd5ded",
   "metadata": {},
   "outputs": [
    {
     "data": {
      "text/html": [
       "<div>\n",
       "<style scoped>\n",
       "    .dataframe tbody tr th:only-of-type {\n",
       "        vertical-align: middle;\n",
       "    }\n",
       "\n",
       "    .dataframe tbody tr th {\n",
       "        vertical-align: top;\n",
       "    }\n",
       "\n",
       "    .dataframe thead th {\n",
       "        text-align: right;\n",
       "    }\n",
       "</style>\n",
       "<table border=\"1\" class=\"dataframe\">\n",
       "  <thead>\n",
       "    <tr style=\"text-align: right;\">\n",
       "      <th></th>\n",
       "      <th>Cuisines</th>\n",
       "      <th>Aggregate rating</th>\n",
       "    </tr>\n",
       "  </thead>\n",
       "  <tbody>\n",
       "    <tr>\n",
       "      <th>0</th>\n",
       "      <td>French, Japanese, Desserts</td>\n",
       "      <td>4.8</td>\n",
       "    </tr>\n",
       "    <tr>\n",
       "      <th>1</th>\n",
       "      <td>Japanese</td>\n",
       "      <td>4.5</td>\n",
       "    </tr>\n",
       "    <tr>\n",
       "      <th>2</th>\n",
       "      <td>Seafood, Asian, Filipino, Indian</td>\n",
       "      <td>4.4</td>\n",
       "    </tr>\n",
       "    <tr>\n",
       "      <th>3</th>\n",
       "      <td>Japanese, Sushi</td>\n",
       "      <td>4.9</td>\n",
       "    </tr>\n",
       "    <tr>\n",
       "      <th>4</th>\n",
       "      <td>Japanese, Korean</td>\n",
       "      <td>4.8</td>\n",
       "    </tr>\n",
       "    <tr>\n",
       "      <th>...</th>\n",
       "      <td>...</td>\n",
       "      <td>...</td>\n",
       "    </tr>\n",
       "    <tr>\n",
       "      <th>9537</th>\n",
       "      <td>Turkish</td>\n",
       "      <td>4.1</td>\n",
       "    </tr>\n",
       "    <tr>\n",
       "      <th>9538</th>\n",
       "      <td>World Cuisine, Patisserie, Cafe</td>\n",
       "      <td>4.2</td>\n",
       "    </tr>\n",
       "    <tr>\n",
       "      <th>9539</th>\n",
       "      <td>Italian, World Cuisine</td>\n",
       "      <td>3.7</td>\n",
       "    </tr>\n",
       "    <tr>\n",
       "      <th>9540</th>\n",
       "      <td>Restaurant Cafe</td>\n",
       "      <td>4.0</td>\n",
       "    </tr>\n",
       "    <tr>\n",
       "      <th>9541</th>\n",
       "      <td>Cafe</td>\n",
       "      <td>4.0</td>\n",
       "    </tr>\n",
       "  </tbody>\n",
       "</table>\n",
       "<p>9542 rows × 2 columns</p>\n",
       "</div>"
      ],
      "text/plain": [
       "                              Cuisines  Aggregate rating\n",
       "0           French, Japanese, Desserts               4.8\n",
       "1                             Japanese               4.5\n",
       "2     Seafood, Asian, Filipino, Indian               4.4\n",
       "3                      Japanese, Sushi               4.9\n",
       "4                     Japanese, Korean               4.8\n",
       "...                                ...               ...\n",
       "9537                           Turkish               4.1\n",
       "9538   World Cuisine, Patisserie, Cafe               4.2\n",
       "9539            Italian, World Cuisine               3.7\n",
       "9540                   Restaurant Cafe               4.0\n",
       "9541                              Cafe               4.0\n",
       "\n",
       "[9542 rows x 2 columns]"
      ]
     },
     "execution_count": 11,
     "metadata": {},
     "output_type": "execute_result"
    }
   ],
   "source": [
    "#Determine if certain cuisine combinations tend to have higher ratings.\n",
    "cuisines_ratings = df1[['Cuisines', 'Aggregate rating']]\n",
    "cuisines_ratings"
   ]
  },
  {
   "cell_type": "code",
   "execution_count": 12,
   "id": "617a71e2",
   "metadata": {},
   "outputs": [
    {
     "name": "stdout",
     "output_type": "stream",
     "text": [
      "Cuisine combinations with the highest ratings:\n",
      " Cuisines\n",
      "Italian, Deli               4.9\n",
      "Hawaiian, Seafood           4.9\n",
      "American, Sandwich, Tea     4.9\n",
      "Continental, Indian         4.9\n",
      "European, Asian, Indian     4.9\n",
      "European, Contemporary      4.9\n",
      "European, German            4.9\n",
      "BBQ, Breakfast, Southern    4.9\n",
      "American, Coffee and Tea    4.9\n",
      "Sunda, Indonesian           4.9\n",
      "Name: Aggregate rating, dtype: float64\n"
     ]
    }
   ],
   "source": [
    "cuisine_rating_avg = cuisines_ratings.groupby('Cuisines')['Aggregate rating'].mean()\n",
    "sorted_cuisine_ratings = cuisine_rating_avg.sort_values(ascending=False)\n",
    "print(\"Cuisine combinations with the highest ratings:\\n\", sorted_cuisine_ratings.head(10))"
   ]
  },
  {
   "cell_type": "markdown",
   "id": "fca80ec7",
   "metadata": {},
   "source": [
    "## Task 3 : Geographic Analysis \n",
    "Plot the locations of restaurants on a map using longitude and latitude coordinates.\n",
    "\n",
    "Identify any patterns or clusters of restaurants in specific areas."
   ]
  },
  {
   "cell_type": "code",
   "execution_count": 13,
   "id": "f4112f16",
   "metadata": {},
   "outputs": [
    {
     "data": {
      "image/png": "[encoded data removed]",
      "text/plain": [
       "<Figure size 1200x800 with 1 Axes>"
      ]
     },
     "metadata": {},
     "output_type": "display_data"
    }
   ],
   "source": [
    "#Plot the locations of restaurants on a map using longitude and latitude coordinates.\n",
    "\n",
    "import matplotlib.pyplot as plt\n",
    "import seaborn as sns\n",
    "\n",
    "# Create the plot\n",
    "plt.figure(figsize=(12, 8))\n",
    "sns.scatterplot(\n",
    "    x=df1['Longitude'],\n",
    "    y=df1['Latitude'],\n",
    "    hue=df1['City'],  # color by city\n",
    "    palette='viridis',\n",
    "    s=10,  # Size of points(data)\n",
    "    legend=None  # I Disabled legend for clarity in large datasets\n",
    ")\n",
    "\n",
    "plt.title('Restaurant Locations: Longitude vs Latitude', fontsize=16)\n",
    "plt.xlabel('Longitude', fontsize=12)\n",
    "plt.ylabel('Latitude', fontsize=12)\n",
    "plt.grid(True, linestyle='--', alpha=0.5)\n",
    "plt.tight_layout()\n",
    "plt.show()\n"
   ]
  },
  {
   "cell_type": "code",
   "execution_count": 14,
   "id": "5faf3db6",
   "metadata": {},
   "outputs": [
    {
     "data": {
      "image/png": "[encoded data removed]",
      "text/plain": [
       "<Figure size 1200x800 with 2 Axes>"
      ]
     },
     "metadata": {},
     "output_type": "display_data"
    }
   ],
   "source": [
    "#patterns or clusters of restaurants in specific areas.\n",
    "from sklearn.cluster import DBSCAN\n",
    "import numpy as np\n",
    "import matplotlib.pyplot as plt\n",
    "\n",
    "# Extract coordinates\n",
    "coordinates = df1[['Longitude', 'Latitude']].values\n",
    "\n",
    "# Apply dbscan\n",
    "dbscan = DBSCAN(eps=0.05, min_samples=10, metric='euclidean')  \n",
    "clusters = dbscan.fit_predict(coordinates)\n",
    "\n",
    "# Add cluster labels to the dataset\n",
    "df1['cluster'] = clusters\n",
    "\n",
    "# Step 4: Plot clusters\n",
    "plt.figure(figsize=(12, 8))\n",
    "scatter = plt.scatter(\n",
    "    df1['Longitude'], \n",
    "    df1['Latitude'], \n",
    "    c=df1['cluster'], \n",
    "    cmap='tab20', \n",
    "    s=10\n",
    ")\n",
    "\n",
    "plt.title('Clusters of Restaurants', fontsize=16)\n",
    "plt.xlabel('Longitude', fontsize=12)\n",
    "plt.ylabel('Latitude', fontsize=12)\n",
    "plt.grid(True, linestyle='--', alpha=0.5)\n",
    "plt.colorbar(scatter, label='Cluster Label')\n",
    "plt.tight_layout()\n",
    "\n",
    "plt.show()\n"
   ]
  },
  {
   "cell_type": "markdown",
   "id": "36d071f4",
   "metadata": {},
   "source": [
    "## Task 4 : Restaurant Chains\n",
    "\n",
    "Identify if there are any restaurant chains present in the dataset.\n",
    "\n",
    "Analyze the ratings and popularity of different restaurant chains."
   ]
  },
  {
   "cell_type": "code",
   "execution_count": 15,
   "id": "b5c4e432",
   "metadata": {},
   "outputs": [
    {
     "name": "stdout",
     "output_type": "stream",
     "text": [
      "Restaurant Name\n",
      "Cafe Coffee Day                   83\n",
      "Domino's Pizza                    79\n",
      "Subway                            63\n",
      "Green Chick Chop                  51\n",
      "McDonald's                        48\n",
      "                                  ..\n",
      "Zaika Kathi Rolls                  2\n",
      "The Night Owl                      2\n",
      "The Cheesecake Factory             2\n",
      "New Kadimi                         2\n",
      "Ceviche Tapas Bar & Restaurant     2\n",
      "Name: count, Length: 734, dtype: int64\n"
     ]
    }
   ],
   "source": [
    "# The restaurant chains present in the dataset.\n",
    "\n",
    "# Count occurrences of each restaurant name\n",
    "chain_counts = df1['Restaurant Name'].value_counts()\n",
    "\n",
    "# Filter for chains (restaurants with more than one outlet)\n",
    "restaurant_chains = chain_counts[chain_counts > 1]\n",
    "\n",
    "# Display the restaurant chains\n",
    "print(restaurant_chains)\n"
   ]
  },
  {
   "cell_type": "code",
   "execution_count": 16,
   "id": "37e75bfa",
   "metadata": {},
   "outputs": [
    {
     "name": "stdout",
     "output_type": "stream",
     "text": [
      "               Restaurant Name  Average Rating  Total Votes\n",
      "62             Barbeque Nation        4.353846        28142\n",
      "7    AB's - Absolute Barbecues        4.825000        13400\n",
      "79                   Big Chill        4.475000        10853\n",
      "239                 Farzi Cafe        4.366667        10098\n",
      "692                   Truffles        3.950000         9682\n",
      "..                         ...             ...          ...\n",
      "440           Murliwala Bakers        0.000000            0\n",
      "538        Rajdhani Restaurant        0.000000            0\n",
      "616                Street Cafe        0.000000            0\n",
      "645              The Big Scoop        0.000000            0\n",
      "713               Whatslife.in        0.000000            0\n",
      "\n",
      "[734 rows x 3 columns]\n"
     ]
    }
   ],
   "source": [
    "#Analyze the ratings and popularity of different restaurant chains.\n",
    "\n",
    "# Filtering the dataset for chains\n",
    "chains_data = df1[df1['Restaurant Name'].isin(restaurant_chains.index)]\n",
    "\n",
    "# Grouping by restaurant name to calculate metrics\n",
    "chain_analysis = chains_data.groupby('Restaurant Name').agg({\n",
    "    'Aggregate rating': 'mean',\n",
    "    'Votes': 'sum'\n",
    "}).reset_index()\n",
    "\n",
    "# Rename columns for clarity\n",
    "chain_analysis.columns = ['Restaurant Name', 'Average Rating', 'Total Votes']\n",
    "# Sort by popularity (total votes) and rating\n",
    "chain_analysis = chain_analysis.sort_values(by=['Total Votes', 'Average Rating'], ascending=False)\n",
    "print(chain_analysis)\n"
   ]
  },
  {
   "cell_type": "markdown",
   "id": "886dc706",
   "metadata": {},
   "source": [
    "Conclusion:\n",
    "\n",
    "The analysis of the restaurant dataset has provided valuable insights into the restaurant industry across various dimensions.\n",
    "The study highlights critical areas of interest for restaurant stakeholders, from customer preferences and pricing strategies to geographic planning and operational efficiencies. This helps in data-driven decision-making for businesses, enabling them to achieve long-term growth."
   ]
  },
  {
   "cell_type": "code",
   "execution_count": null,
   "id": "85ef1667",
   "metadata": {},
   "outputs": [],
   "source": []
  }
 ],
 "metadata": {
  "kernelspec": {
   "display_name": "Python 3 (ipykernel)",
   "language": "python",
   "name": "python3"
  },
  "language_info": {
   "codemirror_mode": {
    "name": "ipython",
    "version": 3
   },
   "file_extension": ".py",
   "mimetype": "text/x-python",
   "name": "python",
   "nbconvert_exporter": "python",
   "pygments_lexer": "ipython3",
   "version": "3.11.5"
  }
 },
 "nbformat": 4,
 "nbformat_minor": 5
}
